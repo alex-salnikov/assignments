{
 "cells": [
  {
   "cell_type": "code",
   "execution_count": 84,
   "id": "a44a0aed-847e-4dbf-8cf4-d4f5c99a986c",
   "metadata": {},
   "outputs": [
    {
     "name": "stdout",
     "output_type": "stream",
     "text": [
      "Enter text to encrypt > asd\n",
      "Enter a number to shift (will be converted to 0-25) > -1\n"
     ]
    },
    {
     "name": "stdout",
     "output_type": "stream",
     "text": [
      "25\n",
      "The text you entered  is:\n",
      "zrc\n"
     ]
    }
   ],
   "source": [
    "#plaintext = \"programming: Python is fun!\"\n",
    "#i = ord(\"a\")\n",
    "#while chr(i).isalpha():\n",
    "#    plaintext += chr(i)\n",
    "#    i += 1\n",
    "#print(plaintext)\n",
    "#shift = input(\"shift (0-25): \")\n",
    "#while not(shift.isdecimal() and (int(shift)) in range(26)):\n",
    "#    print(shift, \"is not a number between 0 and 25\")\n",
    "\n",
    "plaintext = str.lower(input(\"Enter text to encrypt >\"))\n",
    "shift = (input(\"Enter a number to shift (will be converted to 0-25) >\"))\n",
    "\n",
    "#########while not(type(shift) = int)\n",
    "\n",
    "if int(shift) < 0:\n",
    "    shift = int(shift) + ord(\"z\") - ord(\"a\") + 1\n",
    "else:\n",
    "    while not(shift.isdecimal()):\n",
    "        shift = (input(\"Enter number to shift (will be converted to 0-25) >\"))\n",
    "    shift = int(shift)\n",
    "\n",
    "if shift > ord(\"z\") - ord(\"a\"):\n",
    "    shift = (shift % (1 + ord(\"z\") - ord(\"a\")))\n",
    "\n",
    "    if shift == 0:\n",
    "        result =\"\"\n",
    "    else:\n",
    "        if shift != 1:\n",
    "            s = \"s\"\n",
    "        result = \"shifted by \" + str(shift), \"symbol\" + s\n",
    "\n",
    "i = 0\n",
    "encrypted = \"\"\n",
    "\n",
    "for ltr in plaintext:\n",
    "    if ltr.isalpha():\n",
    "        encrypted += chr((shift + ord(ltr) - ord(\"a\")) % (ord(\"z\") - ord(\"a\") + 1) + ord(\"a\"))\n",
    "    else:\n",
    "        encrypted += ltr\n",
    "    i += 1\n",
    "\n",
    "print(shift)\n",
    "print(\"The text you entered\", result, \"is:\")\n",
    "print(encrypted)"
   ]
  },
  {
   "cell_type": "code",
   "execution_count": 2,
   "id": "4330685b-c9d5-43b0-a59c-0363ae1ece2c",
   "metadata": {},
   "outputs": [],
   "source": [
    "row = \"\"\n",
    "x = 0\n",
    "\n",
    "with open(\"key.txt\") as key:\n",
    "    xy = [int(n) for n in key.readlines()]\n",
    "with open(\"secret.txt\") as secret:\n",
    "    for line in secret:\n",
    "        row += line.strip()\n",
    "with open(\"public.txt\", \"w\") as public:\n",
    "    for col in range(xy[1]):\n",
    "        public.write(row[x:(x+xy[0])])\n",
    "        public.write(\"\\n\")\n",
    "        x += xy[0]"
   ]
  },
  {
   "cell_type": "code",
   "execution_count": 2,
   "id": "c03a2694-0d86-49ef-a196-56826be85d29",
   "metadata": {},
   "outputs": [],
   "source": [
    "# TTT  EEE  sS  TTT \n",
    "#  T   E   S     T  \n",
    "#  T   EE   Ss   T  \n",
    "#  T   E      S  T  \n",
    "#  T   EEE  SS   T  \n",
    "\n",
    "\n",
    "with open(\"key.txt\", \"r\") as file:\n",
    "    lines = file.readlines()\n",
    "    cols = int(lines[0])\n",
    "    rows = int(lines[1])\n",
    "strng = \"\"\n",
    "lst = []\n",
    "col = 0\n",
    "row = 0\n",
    "with open(\"secret.txt\", \"r\") as file:\n",
    "    for line in file:\n",
    "        if cols == col:\n",
    "            col = 0\n",
    "            lst.append(strng + \"\\n\")\n",
    "            strng = \"\"\n",
    "            row += 1\n",
    "        strng += line.strip()\n",
    "        col += 1\n",
    "with open(\"public.txt\", \"w\") as file:\n",
    "    for ls in lst:\n",
    "        file.write(ls)# + \"\\n\")"
   ]
  },
  {
   "cell_type": "code",
   "execution_count": 5,
   "id": "978423ef-20f4-43f6-a855-768b2d79318c",
   "metadata": {},
   "outputs": [],
   "source": [
    "draw = 0\n",
    "win1 = 0\n",
    "win2 = 0\n",
    "\n",
    "with open(\"player1.txt\") as p1:\n",
    "    with open(\"player2.txt\") as p2:\n",
    "        option1 = p1.readlines()\n",
    "        option2 = p2.readlines()\n",
    "        if len(option1) < len(option2):\n",
    "            counter = len(option1)\n",
    "        else:\n",
    "            counter = len(option2)\n",
    "        for n in range(counter):\n",
    "            if option1[n] == option2[n]:\n",
    "                draw += 1 \n",
    "            elif (option1[n] == 'R\\n' and option2[n] == 'S\\n')\\\n",
    "            or (option1[n] == 'P\\n' and option2[n] == 'R\\n')\\\n",
    "            or (option1[n] == 'S\\n' and option2[n] == 'P\\n'):\n",
    "                win1 += 1\n",
    "            else:\n",
    "                win2 += 1\n",
    "\n",
    "wins1 = (\"Player1 wins: \" + str(win1) + \"\\n\")\n",
    "wins2 = (\"Player2 wins: \" + str(win2) + \"\\n\")\n",
    "draws = (\"Draws: \" + str(draw) + \"\\n\")\n",
    "\n",
    "with open(\"result.txt\", \"w\") as output:\n",
    "    output.write(wins1)\n",
    "    output.write(wins2)\n",
    "    output.write(draws)"
   ]
  },
  {
   "cell_type": "code",
   "execution_count": null,
   "id": "73db254f",
   "metadata": {},
   "outputs": [],
   "source": []
  }
 ],
 "metadata": {
  "kernelspec": {
   "display_name": "Python 3 (ipykernel)",
   "language": "python",
   "name": "python3"
  },
  "language_info": {
   "codemirror_mode": {
    "name": "ipython",
    "version": 3
   },
   "file_extension": ".py",
   "mimetype": "text/x-python",
   "name": "python",
   "nbconvert_exporter": "python",
   "pygments_lexer": "ipython3",
   "version": "3.8.13"
  }
 },
 "nbformat": 4,
 "nbformat_minor": 5
}
